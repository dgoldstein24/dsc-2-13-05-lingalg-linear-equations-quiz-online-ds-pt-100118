{
 "cells": [
  {
   "cell_type": "markdown",
   "metadata": {},
   "source": [
    "# Systems of Linear Equations - Quiz\n",
    "\n",
    "## Introduction\n",
    "Following scenarios present problems that can be solved as system of equations, while performing substitutions and eliminations as we saw in the previous lesson. \n",
    "\n",
    "* Solve these problems by hand, showing all the steps to work out the unknown variable values \n",
    "* Verify your answers by showing the calculated values satisfy all equations\n",
    "\n",
    "## Objectives\n",
    "You will be able to:\n",
    "* Describe a system of linear equations for solving simple analytical problems\n",
    "* Solve a system of equations using elimination and substitution\n",
    "\n",
    "## Exercise 1\n",
    "#### Joe paid 12 dollars for 4 cups of coffee and 4 cups of tea. 3 cups of coffee cost as much as 2 cups of tea. \n",
    "\n",
    "#### What would be the total cost of 5 cups of coffee and 5 cups of tea ?"
   ]
  },
  {
   "cell_type": "markdown",
   "metadata": {},
   "source": [
    "## Solution\n",
    "\n",
    "> Let x be the unit price of coffee and y be the unit price of tea"
   ]
  },
  {
   "cell_type": "markdown",
   "metadata": {},
   "source": [
    "12 = 4x + 4y\n",
    "3x = 2y\n",
    "\n",
    "10x = 12\n",
    "x = 5/6\n",
    "y = 5/4"
   ]
  },
  {
   "cell_type": "code",
   "execution_count": 5,
   "metadata": {},
   "outputs": [],
   "source": [
    "total_cost = (25/6)* (25/4)"
   ]
  },
  {
   "cell_type": "code",
   "execution_count": 6,
   "metadata": {},
   "outputs": [
    {
     "data": {
      "text/plain": [
       "26.041666666666668"
      ]
     },
     "execution_count": 6,
     "metadata": {},
     "output_type": "execute_result"
    }
   ],
   "source": [
    "# Your solution here \n",
    "total_cost # 26.04"
   ]
  },
  {
   "cell_type": "markdown",
   "metadata": {},
   "source": [
    "## Exercise 2\n",
    "\n",
    "#### Jim has more money than Bob.  If Jim gave Bob 20 dollars , they would have the same amount.  While if Bob gave Jim 22 dollars, Jim would then have twice as much as Bob. \n",
    "\n",
    "#### How much does each one actually have?"
   ]
  },
  {
   "cell_type": "markdown",
   "metadata": {},
   "source": [
    "## Solution\n",
    "> Let x be the amount of money that Jim has and y be the amount that Bob has."
   ]
  },
  {
   "cell_type": "markdown",
   "metadata": {},
   "source": [
    "J - 20 =  B + 20\n",
    "J = B + 40\n",
    "\n",
    "2(B - 22) = J + 22\n",
    "2B - 44 = J + 22\n",
    "2B - 44 = B + 62\n",
    "\n"
   ]
  },
  {
   "cell_type": "code",
   "execution_count": 7,
   "metadata": {},
   "outputs": [],
   "source": [
    "Bob = 106\n",
    "Jim = 146"
   ]
  },
  {
   "cell_type": "code",
   "execution_count": 8,
   "metadata": {},
   "outputs": [
    {
     "name": "stdout",
     "output_type": "stream",
     "text": [
      "106\n",
      "146\n"
     ]
    }
   ],
   "source": [
    "# Your solution here \n",
    "print(Bob)\n",
    "print(Jim)"
   ]
  },
  {
   "cell_type": "markdown",
   "metadata": {},
   "source": [
    "## Exercise 3\n",
    "\n",
    "#### Mia has 30 coins, consisting of quarters (25 cents) and dimes (10 cents), which total to the amount 5.70 dollars.  \n",
    "#### How many of each does she have?"
   ]
  },
  {
   "cell_type": "code",
   "execution_count": 9,
   "metadata": {},
   "outputs": [
    {
     "data": {
      "text/plain": [
       "750"
      ]
     },
     "execution_count": 9,
     "metadata": {},
     "output_type": "execute_result"
    }
   ],
   "source": [
    "25*30"
   ]
  },
  {
   "cell_type": "code",
   "execution_count": 10,
   "metadata": {},
   "outputs": [
    {
     "data": {
      "text/plain": [
       "12.0"
      ]
     },
     "execution_count": 10,
     "metadata": {},
     "output_type": "execute_result"
    }
   ],
   "source": [
    "180/15"
   ]
  },
  {
   "cell_type": "markdown",
   "metadata": {},
   "source": [
    "q + d = 30\n",
    "q = 30-d\n",
    "\n",
    ".25q + .1d = 5.70\n",
    "25q + 10d = 570\n",
    "\n",
    "750-25d + 10d = 570\n",
    "750-15d = 570\n",
    "180/15 = d\n",
    "\n",
    "\n"
   ]
  },
  {
   "cell_type": "code",
   "execution_count": 12,
   "metadata": {},
   "outputs": [],
   "source": [
    "dimes = 12\n",
    "quarters = 18"
   ]
  },
  {
   "cell_type": "code",
   "execution_count": 14,
   "metadata": {},
   "outputs": [
    {
     "data": {
      "text/plain": [
       "5.7"
      ]
     },
     "execution_count": 14,
     "metadata": {},
     "output_type": "execute_result"
    }
   ],
   "source": [
    "1.20 + (18*.25)"
   ]
  },
  {
   "cell_type": "code",
   "execution_count": 13,
   "metadata": {},
   "outputs": [
    {
     "name": "stdout",
     "output_type": "stream",
     "text": [
      "12\n",
      "18\n"
     ]
    }
   ],
   "source": [
    "# Your solution here \n",
    "\n",
    "print(dimes)\n",
    "print(quarters)"
   ]
  },
  {
   "cell_type": "markdown",
   "metadata": {},
   "source": [
    "## Level up - Optional \n",
    "For more pratice with linear equations, Visit following links for more complex equations and online answers verification:\n",
    "\n",
    "* https://www.transum.org/software/SW/Starter_of_the_day/Students/Simultaneous_Equations.asp?Level=6\n",
    "* https://www.transum.org/software/SW/Starter_of_the_day/Students/Simultaneous_Equations.asp?Level=7"
   ]
  },
  {
   "cell_type": "markdown",
   "metadata": {},
   "source": [
    "## Summary\n",
    "In this lesson, we saw how to solve linear equations by hand to find the co-efficient values. We shall now move forward to have a deeper look into vectors and matrices and how Python and Numpy can help us solve more complex equations in an analytical context. "
   ]
  }
 ],
 "metadata": {
  "kernelspec": {
   "display_name": "Python 3",
   "language": "python",
   "name": "python3"
  },
  "language_info": {
   "codemirror_mode": {
    "name": "ipython",
    "version": 3
   },
   "file_extension": ".py",
   "mimetype": "text/x-python",
   "name": "python",
   "nbconvert_exporter": "python",
   "pygments_lexer": "ipython3",
   "version": "3.6.5"
  }
 },
 "nbformat": 4,
 "nbformat_minor": 2
}
